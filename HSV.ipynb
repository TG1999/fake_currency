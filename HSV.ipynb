{
 "cells": [
  {
   "cell_type": "code",
   "execution_count": 1,
   "metadata": {},
   "outputs": [],
   "source": [
    "import numpy as np"
   ]
  },
  {
   "cell_type": "code",
   "execution_count": 2,
   "metadata": {},
   "outputs": [],
   "source": [
    "import cv2"
   ]
  },
  {
   "cell_type": "code",
   "execution_count": 3,
   "metadata": {},
   "outputs": [],
   "source": [
    "img2 = cv2.imread('2000.jpg')"
   ]
  },
  {
   "cell_type": "code",
   "execution_count": 4,
   "metadata": {},
   "outputs": [],
   "source": [
    "cv2.imshow('img3',img2)\n",
    "cv2.waitKey(0)\n",
    "cv2.destroyAllWindows()"
   ]
  },
  {
   "cell_type": "code",
   "execution_count": null,
   "metadata": {},
   "outputs": [],
   "source": []
  },
  {
   "cell_type": "code",
   "execution_count": 5,
   "metadata": {},
   "outputs": [],
   "source": [
    "hsv_img=cv2.cvtColor(img2, cv2.COLOR_RGB2HSV)"
   ]
  },
  {
   "cell_type": "code",
   "execution_count": 31,
   "metadata": {},
   "outputs": [],
   "source": [
    "cv2.imshow('img3',hsv_img)\n",
    "cv2.waitKey(0)\n",
    "cv2.destroyAllWindows()"
   ]
  },
  {
   "cell_type": "code",
   "execution_count": 7,
   "metadata": {},
   "outputs": [],
   "source": [
    "def auto_canny(image, sigma=0.33):\n",
    "\t# compute the median of the single channel pixel intensities\n",
    "\tv = np.median(image)\n",
    " \n",
    "\t# apply automatic Canny edge detection using the computed median\n",
    "\tlower = int(max(0, (1.0 - sigma) * v))\n",
    "\tupper = int(min(255, (1.0 + sigma) * v))\n",
    "\tedged = cv2.Canny(image, lower, upper)\n",
    " \n",
    "\t# return the edged image\n",
    "\treturn edged"
   ]
  },
  {
   "cell_type": "code",
   "execution_count": 8,
   "metadata": {},
   "outputs": [],
   "source": [
    "edges = cv2.Canny(hsv_img,150,400)"
   ]
  },
  {
   "cell_type": "code",
   "execution_count": 9,
   "metadata": {},
   "outputs": [],
   "source": [
    "#edges=auto_canny(hsv_img)"
   ]
  },
  {
   "cell_type": "code",
   "execution_count": 10,
   "metadata": {},
   "outputs": [],
   "source": [
    "cv2.imshow('img3',edges)\n",
    "cv2.waitKey(0)\n",
    "cv2.destroyAllWindows()"
   ]
  },
  {
   "cell_type": "code",
   "execution_count": 11,
   "metadata": {},
   "outputs": [],
   "source": [
    "gray=cv2.cvtColor(img2, cv2.COLOR_RGB2GRAY)"
   ]
  },
  {
   "cell_type": "code",
   "execution_count": 12,
   "metadata": {},
   "outputs": [],
   "source": [
    "cv2.imshow('img3',gray)\n",
    "cv2.waitKey(0)\n",
    "cv2.destroyAllWindows()"
   ]
  },
  {
   "cell_type": "code",
   "execution_count": 13,
   "metadata": {},
   "outputs": [],
   "source": [
    "surf = cv2.xfeatures2d.SURF_create(15000)"
   ]
  },
  {
   "cell_type": "code",
   "execution_count": 14,
   "metadata": {},
   "outputs": [],
   "source": [
    "(kps, descs) = surf.detectAndCompute(gray, None)"
   ]
  },
  {
   "cell_type": "code",
   "execution_count": 15,
   "metadata": {},
   "outputs": [
    {
     "data": {
      "text/plain": [
       "163"
      ]
     },
     "execution_count": 15,
     "metadata": {},
     "output_type": "execute_result"
    }
   ],
   "source": [
    "len(kps)"
   ]
  },
  {
   "cell_type": "code",
   "execution_count": 16,
   "metadata": {},
   "outputs": [],
   "source": [
    "img3 = cv2.drawKeypoints(gray,kps,None,(255,0,0),4)"
   ]
  },
  {
   "cell_type": "code",
   "execution_count": 17,
   "metadata": {},
   "outputs": [],
   "source": [
    "cv2.imshow('img3',img3)\n",
    "cv2.waitKey(0)\n",
    "cv2.destroyAllWindows()"
   ]
  },
  {
   "cell_type": "code",
   "execution_count": 28,
   "metadata": {},
   "outputs": [],
   "source": [
    "A=[]\n",
    "for i in kps:\n",
    "    A.append(i.pt[0])\n",
    "A.sort()\n",
    "d={}\n",
    "for i in A:\n",
    "    try:\n",
    "        d[i]+=1\n",
    "    except:\n",
    "        d[i]=1\n",
    "        "
   ]
  },
  {
   "cell_type": "code",
   "execution_count": 30,
   "metadata": {},
   "outputs": [
    {
     "data": {
      "text/plain": [
       "1"
      ]
     },
     "execution_count": 30,
     "metadata": {},
     "output_type": "execute_result"
    }
   ],
   "source": [
    "max(d.values())"
   ]
  },
  {
   "cell_type": "code",
   "execution_count": 54,
   "metadata": {},
   "outputs": [],
   "source": [
    "shap=hsv_img.shape"
   ]
  },
  {
   "cell_type": "code",
   "execution_count": 43,
   "metadata": {},
   "outputs": [
    {
     "data": {
      "text/plain": [
       "array([[[ 20,  24, 233],\n",
       "        [ 16,  21, 228],\n",
       "        [  4,  16, 218],\n",
       "        ...,\n",
       "        [152,  95, 213],\n",
       "        [152,  89, 227],\n",
       "        [153,  83, 240]],\n",
       "\n",
       "       [[ 20,  24, 231],\n",
       "        [ 16,  21, 230],\n",
       "        [  4,  16, 221],\n",
       "        ...,\n",
       "        [152,  94, 215],\n",
       "        [152,  93, 216],\n",
       "        [153,  92, 217]],\n",
       "\n",
       "       [[ 18,  25, 233],\n",
       "        [ 15,  22, 230],\n",
       "        [  4,  17, 219],\n",
       "        ...,\n",
       "        [152,  89, 227],\n",
       "        [152,  93, 217],\n",
       "        [153,  95, 209]],\n",
       "\n",
       "       ...,\n",
       "\n",
       "       [[ 14,  23, 240],\n",
       "        [ 14,  24, 237],\n",
       "        [ 10,  20, 231],\n",
       "        ...,\n",
       "        [160,  48, 219],\n",
       "        [160,  44, 224],\n",
       "        [160,  45, 232]],\n",
       "\n",
       "       [[ 14,  23, 239],\n",
       "        [ 14,  24, 237],\n",
       "        [ 10,  20, 232],\n",
       "        ...,\n",
       "        [165,  35, 228],\n",
       "        [165,  34, 232],\n",
       "        [165,  35, 227]],\n",
       "\n",
       "       [[ 14,  24, 238],\n",
       "        [ 14,  24, 237],\n",
       "        [ 10,  20, 233],\n",
       "        ...,\n",
       "        [170,  27, 229],\n",
       "        [170,  26, 234],\n",
       "        [173,  26, 224]]], dtype=uint8)"
      ]
     },
     "execution_count": 43,
     "metadata": {},
     "output_type": "execute_result"
    }
   ],
   "source": [
    "hsv_img"
   ]
  },
  {
   "cell_type": "code",
   "execution_count": 61,
   "metadata": {},
   "outputs": [
    {
     "name": "stdout",
     "output_type": "stream",
     "text": [
      "(519, 1291)\n"
     ]
    }
   ],
   "source": [
    "saturation=np.zeros([shap[0],shap[1]])\n",
    "print(saturation.shape)\n",
    "for i in range(shap[0]):\n",
    "    for j in range(shap[1]):\n",
    "        saturation[i][j]=hsv_img[i][j][1]"
   ]
  },
  {
   "cell_type": "code",
   "execution_count": 62,
   "metadata": {},
   "outputs": [
    {
     "data": {
      "text/plain": [
       "array([[24., 21., 16., ..., 95., 89., 83.],\n",
       "       [24., 21., 16., ..., 94., 93., 92.],\n",
       "       [25., 22., 17., ..., 89., 93., 95.],\n",
       "       ...,\n",
       "       [23., 24., 20., ..., 48., 44., 45.],\n",
       "       [23., 24., 20., ..., 35., 34., 35.],\n",
       "       [24., 24., 20., ..., 27., 26., 26.]])"
      ]
     },
     "execution_count": 62,
     "metadata": {},
     "output_type": "execute_result"
    }
   ],
   "source": [
    "saturation"
   ]
  },
  {
   "cell_type": "code",
   "execution_count": 63,
   "metadata": {},
   "outputs": [
    {
     "data": {
      "text/plain": [
       "54.00801905589161"
      ]
     },
     "execution_count": 63,
     "metadata": {},
     "output_type": "execute_result"
    }
   ],
   "source": [
    "np.mean(saturation)"
   ]
  },
  {
   "cell_type": "code",
   "execution_count": null,
   "metadata": {},
   "outputs": [],
   "source": []
  }
 ],
 "metadata": {
  "kernelspec": {
   "display_name": "Python 3",
   "language": "python",
   "name": "python3"
  },
  "language_info": {
   "codemirror_mode": {
    "name": "ipython",
    "version": 3
   },
   "file_extension": ".py",
   "mimetype": "text/x-python",
   "name": "python",
   "nbconvert_exporter": "python",
   "pygments_lexer": "ipython3",
   "version": "3.7.0"
  }
 },
 "nbformat": 4,
 "nbformat_minor": 2
}
