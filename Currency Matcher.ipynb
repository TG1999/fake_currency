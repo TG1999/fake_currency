{
 "cells": [
  {
   "cell_type": "code",
   "execution_count": 34,
   "metadata": {},
   "outputs": [],
   "source": [
    "from matplotlib import pyplot as plt\n",
    "import cv2\n",
    "import math\n",
    "import numpy as np"
   ]
  },
  {
   "cell_type": "code",
   "execution_count": 35,
   "metadata": {},
   "outputs": [],
   "source": [
    "max_val = 8\n",
    "max_pt = -1\n",
    "max_kp = 0"
   ]
  },
  {
   "cell_type": "code",
   "execution_count": 36,
   "metadata": {},
   "outputs": [],
   "source": [
    "orb = cv2.ORB_create()"
   ]
  },
  {
   "cell_type": "code",
   "execution_count": 37,
   "metadata": {},
   "outputs": [],
   "source": [
    "test_img = cv2.imread('2000.jpg')"
   ]
  },
  {
   "cell_type": "code",
   "execution_count": 38,
   "metadata": {},
   "outputs": [],
   "source": [
    "original=cv2.resize(test_img, None, fx=0.4, fy=0.4, interpolation = cv2.INTER_AREA)"
   ]
  },
  {
   "cell_type": "code",
   "execution_count": 39,
   "metadata": {},
   "outputs": [],
   "source": [
    "cv2.imshow('img',original)\n",
    "cv2.waitKey(0)\n",
    "cv2.destroyAllWindows()"
   ]
  },
  {
   "cell_type": "code",
   "execution_count": 40,
   "metadata": {},
   "outputs": [],
   "source": [
    "(kp1, des1) = orb.detectAndCompute(test_img, None)"
   ]
  },
  {
   "cell_type": "code",
   "execution_count": 41,
   "metadata": {},
   "outputs": [],
   "source": [
    "training_set = ['500.jpg','2000.jpg']"
   ]
  },
  {
   "cell_type": "code",
   "execution_count": 42,
   "metadata": {},
   "outputs": [
    {
     "name": "stdout",
     "output_type": "stream",
     "text": [
      "0   500.jpg   17\n",
      "1   2000.jpg   500\n"
     ]
    }
   ],
   "source": [
    "for i in range(0, len(training_set)):\n",
    "    train_img = cv2.imread(training_set[i])\n",
    "    (kp2, des2) = orb.detectAndCompute(train_img, None)\n",
    "    bf = cv2.BFMatcher()\n",
    "    all_matches = bf.knnMatch(des1, des2, k=2)\n",
    "    good = []\n",
    "    for (m, n) in all_matches:\n",
    "        if m.distance < 0.789 * n.distance:\n",
    "            good.append([m])\n",
    "    if len(good) > max_val:\n",
    "        max_val = len(good)\n",
    "        max_pt = i\n",
    "        max_kp = kp2\n",
    "    print(i, ' ', training_set[i], ' ', len(good))"
   ]
  },
  {
   "cell_type": "code",
   "execution_count": 43,
   "metadata": {},
   "outputs": [
    {
     "name": "stdout",
     "output_type": "stream",
     "text": [
      "2000.jpg\n",
      "good matches  500\n"
     ]
    }
   ],
   "source": [
    "if max_val != 8:\n",
    "    print(training_set[max_pt])\n",
    "    print('good matches ', max_val)"
   ]
  },
  {
   "cell_type": "code",
   "execution_count": 44,
   "metadata": {},
   "outputs": [
    {
     "name": "stdout",
     "output_type": "stream",
     "text": [
      "\n",
      "Detected denomination: Rs.  2000\n"
     ]
    }
   ],
   "source": [
    "train_img = cv2.imread(training_set[max_pt])\n",
    "img3 = cv2.drawMatchesKnn(test_img, kp1, train_img, max_kp, good, 4)\n",
    "note = str(training_set[max_pt]).split('.')\n",
    "note=note[0]\n",
    "print('\\nDetected denomination: Rs. ', note)"
   ]
  },
  {
   "cell_type": "code",
   "execution_count": null,
   "metadata": {},
   "outputs": [],
   "source": [
    "(plt.imshow(img3), plt.show())"
   ]
  },
  {
   "cell_type": "code",
   "execution_count": null,
   "metadata": {},
   "outputs": [],
   "source": []
  }
 ],
 "metadata": {
  "kernelspec": {
   "display_name": "Python 3",
   "language": "python",
   "name": "python3"
  }
 },
 "nbformat": 4,
 "nbformat_minor": 2
}
